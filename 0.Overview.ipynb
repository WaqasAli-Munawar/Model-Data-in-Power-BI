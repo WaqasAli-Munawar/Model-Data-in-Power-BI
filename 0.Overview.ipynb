{
 "cells": [
  {
   "cell_type": "markdown",
   "metadata": {},
   "source": [
    "### Model Data in Power BI\n",
    "Learn how to model data in Power BI"
   ]
  },
  {
   "cell_type": "markdown",
   "metadata": {},
   "source": [
    "### We WILL LEARN HOW TO\n",
    "* Design a data model in Power BI\n",
    "* Understand dimensions, define data granularity, and work with relationships and cardinality\n",
    "* Create measures using Data Analysis Expressions (DAX) in Power BI\n",
    "* Optimize a model for performance in Power BI"
   ]
  },
  {
   "cell_type": "code",
   "execution_count": null,
   "metadata": {},
   "outputs": [],
   "source": []
  }
 ],
 "metadata": {
  "kernelspec": {
   "display_name": "Python 3",
   "language": "python",
   "name": "python3"
  },
  "language_info": {
   "codemirror_mode": {
    "name": "ipython",
    "version": 3
   },
   "file_extension": ".py",
   "mimetype": "text/x-python",
   "name": "python",
   "nbconvert_exporter": "python",
   "pygments_lexer": "ipython3",
   "version": "3.7.6"
  }
 },
 "nbformat": 4,
 "nbformat_minor": 4
}
